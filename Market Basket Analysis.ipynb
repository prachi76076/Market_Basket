{
 "cells": [
  {
   "cell_type": "code",
   "execution_count": 1,
   "id": "ec04209c-dae2-45a1-8e83-a6e6c75c5a84",
   "metadata": {},
   "outputs": [
    {
     "name": "stdout",
     "output_type": "stream",
     "text": [
      "Requirement already satisfied: pandas in c:\\users\\prachi tiwari\\appdata\\local\\programs\\python\\python312\\lib\\site-packages (2.2.3)\n",
      "Requirement already satisfied: mlxtend in c:\\users\\prachi tiwari\\appdata\\local\\programs\\python\\python312\\lib\\site-packages (0.23.3)\n",
      "Requirement already satisfied: matplotlib in c:\\users\\prachi tiwari\\appdata\\local\\programs\\python\\python312\\lib\\site-packages (3.10.0)\n",
      "Requirement already satisfied: seaborn in c:\\users\\prachi tiwari\\appdata\\local\\programs\\python\\python312\\lib\\site-packages (0.13.2)\n",
      "Requirement already satisfied: numpy>=1.26.0 in c:\\users\\prachi tiwari\\appdata\\local\\programs\\python\\python312\\lib\\site-packages (from pandas) (2.2.0)\n",
      "Requirement already satisfied: python-dateutil>=2.8.2 in c:\\users\\prachi tiwari\\appdata\\local\\programs\\python\\python312\\lib\\site-packages (from pandas) (2.9.0.post0)\n",
      "Requirement already satisfied: pytz>=2020.1 in c:\\users\\prachi tiwari\\appdata\\local\\programs\\python\\python312\\lib\\site-packages (from pandas) (2024.2)\n",
      "Requirement already satisfied: tzdata>=2022.7 in c:\\users\\prachi tiwari\\appdata\\local\\programs\\python\\python312\\lib\\site-packages (from pandas) (2024.2)\n",
      "Requirement already satisfied: scipy>=1.2.1 in c:\\users\\prachi tiwari\\appdata\\local\\programs\\python\\python312\\lib\\site-packages (from mlxtend) (1.14.1)\n",
      "Requirement already satisfied: scikit-learn>=1.3.1 in c:\\users\\prachi tiwari\\appdata\\local\\programs\\python\\python312\\lib\\site-packages (from mlxtend) (1.6.0)\n",
      "Requirement already satisfied: joblib>=0.13.2 in c:\\users\\prachi tiwari\\appdata\\local\\programs\\python\\python312\\lib\\site-packages (from mlxtend) (1.4.2)\n",
      "Requirement already satisfied: contourpy>=1.0.1 in c:\\users\\prachi tiwari\\appdata\\local\\programs\\python\\python312\\lib\\site-packages (from matplotlib) (1.3.1)\n",
      "Requirement already satisfied: cycler>=0.10 in c:\\users\\prachi tiwari\\appdata\\local\\programs\\python\\python312\\lib\\site-packages (from matplotlib) (0.12.1)\n",
      "Requirement already satisfied: fonttools>=4.22.0 in c:\\users\\prachi tiwari\\appdata\\local\\programs\\python\\python312\\lib\\site-packages (from matplotlib) (4.55.3)\n",
      "Requirement already satisfied: kiwisolver>=1.3.1 in c:\\users\\prachi tiwari\\appdata\\local\\programs\\python\\python312\\lib\\site-packages (from matplotlib) (1.4.7)\n",
      "Requirement already satisfied: packaging>=20.0 in c:\\users\\prachi tiwari\\appdata\\local\\programs\\python\\python312\\lib\\site-packages (from matplotlib) (24.2)\n",
      "Requirement already satisfied: pillow>=8 in c:\\users\\prachi tiwari\\appdata\\local\\programs\\python\\python312\\lib\\site-packages (from matplotlib) (11.0.0)\n",
      "Requirement already satisfied: pyparsing>=2.3.1 in c:\\users\\prachi tiwari\\appdata\\local\\programs\\python\\python312\\lib\\site-packages (from matplotlib) (3.2.0)\n",
      "Requirement already satisfied: six>=1.5 in c:\\users\\prachi tiwari\\appdata\\local\\programs\\python\\python312\\lib\\site-packages (from python-dateutil>=2.8.2->pandas) (1.17.0)\n",
      "Requirement already satisfied: threadpoolctl>=3.1.0 in c:\\users\\prachi tiwari\\appdata\\local\\programs\\python\\python312\\lib\\site-packages (from scikit-learn>=1.3.1->mlxtend) (3.5.0)\n",
      "Note: you may need to restart the kernel to use updated packages.\n"
     ]
    }
   ],
   "source": [
    "pip install pandas mlxtend matplotlib seaborn"
   ]
  },
  {
   "cell_type": "code",
   "execution_count": 2,
   "id": "7ec41562-3c9e-4edc-8356-394cf8578334",
   "metadata": {},
   "outputs": [],
   "source": [
    "%matplotlib inline"
   ]
  },
  {
   "cell_type": "code",
   "execution_count": 3,
   "id": "cb8ea19f-3a8d-4b8a-9ada-3fa2b18380d8",
   "metadata": {},
   "outputs": [],
   "source": [
    "import pandas as pd\n",
    "from mlxtend.frequent_patterns import apriori, association_rules\n",
    "import matplotlib.pyplot as plt\n",
    "import seaborn as sns"
   ]
  },
  {
   "cell_type": "code",
   "execution_count": 4,
   "id": "885ded08-3ed6-4e93-9345-9231ea40a49c",
   "metadata": {},
   "outputs": [],
   "source": [
    "data = pd.read_csv(r\"C:\\Users\\PRACHI TIWARI\\OneDrive\\Documents\\Product_Data.csv\")"
   ]
  },
  {
   "cell_type": "code",
   "execution_count": 5,
   "id": "917f59db-1b37-4fe5-9777-231cc44186be",
   "metadata": {},
   "outputs": [],
   "source": [
    "data['Purchase Date'] = pd.to_datetime(data['Purchase_Date'])"
   ]
  },
  {
   "cell_type": "code",
   "execution_count": 6,
   "id": "e2e54606-752e-4c56-9905-cea0d703b406",
   "metadata": {},
   "outputs": [
    {
     "name": "stdout",
     "output_type": "stream",
     "text": [
      "  Transaction_id    Item  Item_Quantity Purchase_Date  Payment_Mode  \\\n",
      "0           T001   Bread              5      1/1/2024          Cash   \n",
      "1           T002  Butter              4      2/2/2024  Credit Card    \n",
      "2           T003   Bread              7      1/3/2024          Cash   \n",
      "3           T004  Butter              6      2/4/2024  Credit Card    \n",
      "4           T005    Milk              8     12/5/2024          Cash   \n",
      "\n",
      "  Purchase Date  \n",
      "0    2024-01-01  \n",
      "1    2024-02-02  \n",
      "2    2024-01-03  \n",
      "3    2024-02-04  \n",
      "4    2024-12-05  \n"
     ]
    }
   ],
   "source": [
    "print(data.head())"
   ]
  },
  {
   "cell_type": "code",
   "execution_count": 7,
   "id": "a4c81c09-c0f7-4e70-81a9-347d69228fd1",
   "metadata": {},
   "outputs": [
    {
     "name": "stdout",
     "output_type": "stream",
     "text": [
      "Dataset Info:\n",
      "<class 'pandas.core.frame.DataFrame'>\n",
      "RangeIndex: 31 entries, 0 to 30\n",
      "Data columns (total 6 columns):\n",
      " #   Column          Non-Null Count  Dtype         \n",
      "---  ------          --------------  -----         \n",
      " 0   Transaction_id  31 non-null     object        \n",
      " 1   Item            31 non-null     object        \n",
      " 2   Item_Quantity   31 non-null     int64         \n",
      " 3   Purchase_Date   31 non-null     object        \n",
      " 4   Payment_Mode    31 non-null     object        \n",
      " 5   Purchase Date   31 non-null     datetime64[ns]\n",
      "dtypes: datetime64[ns](1), int64(1), object(4)\n",
      "memory usage: 1.6+ KB\n",
      "None\n"
     ]
    }
   ],
   "source": [
    "print(\"Dataset Info:\")\n",
    "print(data.info())"
   ]
  },
  {
   "cell_type": "code",
   "execution_count": 8,
   "id": "9446a0db-8682-4b62-b664-981e62242986",
   "metadata": {},
   "outputs": [
    {
     "name": "stdout",
     "output_type": "stream",
     "text": [
      "\n",
      "Unique Payment Modes: ['Cash' 'Credit Card ']\n"
     ]
    }
   ],
   "source": [
    "print(\"\\nUnique Payment Modes:\", data['Payment_Mode'].unique())"
   ]
  },
  {
   "cell_type": "code",
   "execution_count": 9,
   "id": "9103e00d-fc02-447a-81a8-52b366dc3fc7",
   "metadata": {},
   "outputs": [],
   "source": [
    "basket = data.groupby(['Transaction_id', 'Item'])['Item_Quantity'].sum().unstack().fillna(0)\n"
   ]
  },
  {
   "cell_type": "code",
   "execution_count": 10,
   "id": "feb8c6f7-1c45-4969-a31d-beda5f76a6b5",
   "metadata": {},
   "outputs": [
    {
     "name": "stdout",
     "output_type": "stream",
     "text": [
      "\n",
      "Basket Preview:\n",
      "Item            Bread  Butter  Charger  Cold Drinks  Milk\n",
      "Transaction_id                                           \n",
      "T001                1       0        0            0     0\n",
      "T002                0       1        0            0     0\n",
      "T003                1       0        0            0     0\n",
      "T004                0       1        0            0     0\n",
      "T005                0       0        0            0     1\n"
     ]
    }
   ],
   "source": [
    "basket = basket.map(lambda x: 1 if x > 0 else 0)\n",
    "print(\"\\nBasket Preview:\")\n",
    "print(basket.head())"
   ]
  },
  {
   "cell_type": "code",
   "execution_count": 11,
   "id": "ed7847df-6603-44ed-a202-688669f973da",
   "metadata": {},
   "outputs": [],
   "source": [
    "def analyze_payment_mode(data, mode, min_support=0.01, metric=\"lift\", min_threshold=1.0):\n",
    "    \n",
    "    subset = data[data['Payment_Mode'] == mode]\n",
    "    basket_subset = subset.groupby(['Transaction_id', 'Item'])['Item_Quantity'].sum().unstack().fillna(0)\n",
    "    \n",
    "    \n",
    "    basket_subset = basket_subset.map(lambda x: x > 0).astype(bool)\n",
    "    \n",
    "\n",
    "    frequent_itemsets = apriori(basket_subset, min_support=min_support, use_colnames=True)\n",
    "    frequent_itemsets['num_itemsets'] = frequent_itemsets['itemsets'].apply(len)\n",
    "    \n",
    "    rules = association_rules(\n",
    "        frequent_itemsets,\n",
    "        metric=metric,\n",
    "        min_threshold=min_threshold,\n",
    "        num_itemsets=frequent_itemsets['num_itemsets']\n",
    "    )\n",
    "    \n",
    "    print(f\"\\n--- {mode} Mode Analysis ---\")\n",
    "    print(f\"Frequent Itemsets:\\n{frequent_itemsets.head()}\")\n",
    "    print(f\"Association Rules:\\n{rules.head()}\")\n",
    "    \n",
    "    return frequent_itemsets, rules"
   ]
  },
  {
   "cell_type": "code",
   "execution_count": 12,
   "id": "bc43e69a-3785-46a8-9f9c-d0b041efbb6f",
   "metadata": {},
   "outputs": [
    {
     "name": "stdout",
     "output_type": "stream",
     "text": [
      "Name: mlxtendNote: you may need to restart the kernel to use updated packages.\n",
      "\n",
      "Version: 0.23.3\n",
      "Summary: Machine Learning Library Extensions\n",
      "Home-page: https://github.com/rasbt/mlxtend\n",
      "Author: \n",
      "Author-email: Sebastian Raschka <mail@sebastianraschka.com>\n",
      "License: BSD 3-Clause\n",
      "Location: C:\\Users\\PRACHI TIWARI\\AppData\\Local\\Programs\\Python\\Python312\\Lib\\site-packages\n",
      "Requires: joblib, matplotlib, numpy, pandas, scikit-learn, scipy\n",
      "Required-by: \n"
     ]
    }
   ],
   "source": [
    "pip show mlxtend"
   ]
  },
  {
   "cell_type": "code",
   "execution_count": 13,
   "id": "5d3eda37-074d-46d3-97a3-d527d4abf0d4",
   "metadata": {},
   "outputs": [
    {
     "name": "stdout",
     "output_type": "stream",
     "text": [
      "Requirement already satisfied: mlxtend in c:\\users\\prachi tiwari\\appdata\\local\\programs\\python\\python312\\lib\\site-packages (0.23.3)\n",
      "Requirement already satisfied: scipy>=1.2.1 in c:\\users\\prachi tiwari\\appdata\\local\\programs\\python\\python312\\lib\\site-packages (from mlxtend) (1.14.1)\n",
      "Requirement already satisfied: numpy>=1.16.2 in c:\\users\\prachi tiwari\\appdata\\local\\programs\\python\\python312\\lib\\site-packages (from mlxtend) (2.2.0)\n",
      "Requirement already satisfied: pandas>=0.24.2 in c:\\users\\prachi tiwari\\appdata\\local\\programs\\python\\python312\\lib\\site-packages (from mlxtend) (2.2.3)\n",
      "Requirement already satisfied: scikit-learn>=1.3.1 in c:\\users\\prachi tiwari\\appdata\\local\\programs\\python\\python312\\lib\\site-packages (from mlxtend) (1.6.0)\n",
      "Requirement already satisfied: matplotlib>=3.0.0 in c:\\users\\prachi tiwari\\appdata\\local\\programs\\python\\python312\\lib\\site-packages (from mlxtend) (3.10.0)\n",
      "Requirement already satisfied: joblib>=0.13.2 in c:\\users\\prachi tiwari\\appdata\\local\\programs\\python\\python312\\lib\\site-packages (from mlxtend) (1.4.2)\n",
      "Requirement already satisfied: contourpy>=1.0.1 in c:\\users\\prachi tiwari\\appdata\\local\\programs\\python\\python312\\lib\\site-packages (from matplotlib>=3.0.0->mlxtend) (1.3.1)\n",
      "Requirement already satisfied: cycler>=0.10 in c:\\users\\prachi tiwari\\appdata\\local\\programs\\python\\python312\\lib\\site-packages (from matplotlib>=3.0.0->mlxtend) (0.12.1)\n",
      "Requirement already satisfied: fonttools>=4.22.0 in c:\\users\\prachi tiwari\\appdata\\local\\programs\\python\\python312\\lib\\site-packages (from matplotlib>=3.0.0->mlxtend) (4.55.3)\n",
      "Requirement already satisfied: kiwisolver>=1.3.1 in c:\\users\\prachi tiwari\\appdata\\local\\programs\\python\\python312\\lib\\site-packages (from matplotlib>=3.0.0->mlxtend) (1.4.7)\n",
      "Requirement already satisfied: packaging>=20.0 in c:\\users\\prachi tiwari\\appdata\\local\\programs\\python\\python312\\lib\\site-packages (from matplotlib>=3.0.0->mlxtend) (24.2)\n",
      "Requirement already satisfied: pillow>=8 in c:\\users\\prachi tiwari\\appdata\\local\\programs\\python\\python312\\lib\\site-packages (from matplotlib>=3.0.0->mlxtend) (11.0.0)\n",
      "Requirement already satisfied: pyparsing>=2.3.1 in c:\\users\\prachi tiwari\\appdata\\local\\programs\\python\\python312\\lib\\site-packages (from matplotlib>=3.0.0->mlxtend) (3.2.0)\n",
      "Requirement already satisfied: python-dateutil>=2.7 in c:\\users\\prachi tiwari\\appdata\\local\\programs\\python\\python312\\lib\\site-packages (from matplotlib>=3.0.0->mlxtend) (2.9.0.post0)\n",
      "Requirement already satisfied: pytz>=2020.1 in c:\\users\\prachi tiwari\\appdata\\local\\programs\\python\\python312\\lib\\site-packages (from pandas>=0.24.2->mlxtend) (2024.2)\n",
      "Requirement already satisfied: tzdata>=2022.7 in c:\\users\\prachi tiwari\\appdata\\local\\programs\\python\\python312\\lib\\site-packages (from pandas>=0.24.2->mlxtend) (2024.2)\n",
      "Requirement already satisfied: threadpoolctl>=3.1.0 in c:\\users\\prachi tiwari\\appdata\\local\\programs\\python\\python312\\lib\\site-packages (from scikit-learn>=1.3.1->mlxtend) (3.5.0)\n",
      "Requirement already satisfied: six>=1.5 in c:\\users\\prachi tiwari\\appdata\\local\\programs\\python\\python312\\lib\\site-packages (from python-dateutil>=2.7->matplotlib>=3.0.0->mlxtend) (1.17.0)\n",
      "Note: you may need to restart the kernel to use updated packages.\n"
     ]
    }
   ],
   "source": [
    "pip install -U mlxtend"
   ]
  },
  {
   "cell_type": "code",
   "execution_count": 14,
   "id": "3ab98fc5-e524-4a25-bc59-c88faa36a16f",
   "metadata": {},
   "outputs": [
    {
     "name": "stdout",
     "output_type": "stream",
     "text": [
      "\n",
      "--- Cash Mode Analysis ---\n",
      "Frequent Itemsets:\n",
      "   support       itemsets  num_itemsets\n",
      "0   0.4375        (Bread)             1\n",
      "1   0.1875       (Butter)             1\n",
      "2   0.1875  (Cold Drinks)             1\n",
      "3   0.1875         (Milk)             1\n",
      "Association Rules:\n",
      "Empty DataFrame\n",
      "Columns: [antecedents, consequents, antecedent support, consequent support, support, confidence, lift, representativity, leverage, conviction, zhangs_metric, jaccard, certainty, kulczynski]\n",
      "Index: []\n",
      "\n",
      "--- Credit Card  Mode Analysis ---\n",
      "Frequent Itemsets:\n",
      "   support       itemsets  num_itemsets\n",
      "0      0.4       (Butter)             1\n",
      "1      0.2      (Charger)             1\n",
      "2      0.2  (Cold Drinks)             1\n",
      "3      0.2         (Milk)             1\n",
      "Association Rules:\n",
      "Empty DataFrame\n",
      "Columns: [antecedents, consequents, antecedent support, consequent support, support, confidence, lift, representativity, leverage, conviction, zhangs_metric, jaccard, certainty, kulczynski]\n",
      "Index: []\n"
     ]
    }
   ],
   "source": [
    "modes = data['Payment_Mode'].unique()\n",
    "mode_results = {}\n",
    "\n",
    "for mode in modes:\n",
    "    mode_results[mode] = analyze_payment_mode(data, mode)\n"
   ]
  },
  {
   "cell_type": "code",
   "execution_count": 15,
   "id": "3de9e93c-74ef-48da-b8bf-99e96b05225c",
   "metadata": {},
   "outputs": [
    {
     "name": "stdout",
     "output_type": "stream",
     "text": [
      "object\n"
     ]
    }
   ],
   "source": [
    "print(data['Purchase_Date'].dtype)"
   ]
  },
  {
   "cell_type": "code",
   "execution_count": 16,
   "id": "b541ee68-9462-45b5-95b7-568a82ba209b",
   "metadata": {},
   "outputs": [],
   "source": [
    "data['Purchase_Date'] = pd.to_datetime(data['Purchase_Date'])"
   ]
  },
  {
   "cell_type": "code",
   "execution_count": 17,
   "id": "ab7d0b7a-cb8e-43cb-885b-d6118e974540",
   "metadata": {},
   "outputs": [],
   "source": [
    "data['Month'] = data['Purchase_Date'].dt.to_period('M')"
   ]
  },
  {
   "cell_type": "code",
   "execution_count": 18,
   "id": "7831c37f-09c4-4eda-8dd0-447c44f30a54",
   "metadata": {},
   "outputs": [],
   "source": [
    "monthly_sales = data.groupby(['Month', 'Item'])['Item_Quantity'].sum().reset_index()"
   ]
  },
  {
   "cell_type": "code",
   "execution_count": 19,
   "id": "36ff7b3a-9e8e-4779-8228-d5cab8ba4bcc",
   "metadata": {},
   "outputs": [
    {
     "name": "stdout",
     "output_type": "stream",
     "text": [
      "\n",
      "Monthly Trends (Item Quantities):\n",
      "     Month         Item  Item_Quantity\n",
      "0  2024-01        Bread             16\n",
      "1  2024-02        Bread              5\n",
      "2  2024-02       Butter             10\n",
      "3  2024-02  Cold Drinks              6\n",
      "4  2024-04       Butter              5\n"
     ]
    }
   ],
   "source": [
    "print(\"\\nMonthly Trends (Item Quantities):\")\n",
    "print(monthly_sales.head())"
   ]
  },
  {
   "cell_type": "code",
   "execution_count": 20,
   "id": "4689480d-2928-4f64-b97b-6de6b51e695c",
   "metadata": {},
   "outputs": [],
   "source": [
    "top_items = data.groupby('Item')['Item_Quantity'].sum().nlargest(5).index\n",
    "top_items_sales = monthly_sales[monthly_sales['Item'].isin(top_items)]"
   ]
  },
  {
   "cell_type": "code",
   "execution_count": 21,
   "id": "76e2bacd-c277-4d3b-905c-c98b4fd00000",
   "metadata": {},
   "outputs": [
    {
     "name": "stdout",
     "output_type": "stream",
     "text": [
      "Top Items: Index(['Butter', 'Milk', 'Cold Drinks', 'Bread', 'Charger'], dtype='object', name='Item')\n",
      "Top Items Sales (Preview):\n",
      "      Month         Item  Item_Quantity\n",
      "0  2024-01        Bread             16\n",
      "1  2024-02        Bread              5\n",
      "2  2024-02       Butter             10\n",
      "3  2024-02  Cold Drinks              6\n",
      "4  2024-04       Butter              5\n"
     ]
    },
    {
     "data": {
      "image/png": "[encoded data removed]",
      "text/plain": [
       "<Figure size 1000x600 with 1 Axes>"
      ]
     },
     "metadata": {},
     "output_type": "display_data"
    }
   ],
   "source": [
    "import matplotlib.pyplot as plt\n",
    "print(\"Top Items:\", top_items)\n",
    "print(\"Top Items Sales (Preview):\\n\", top_items_sales.head())\n",
    "plt.figure(figsize=(10, 6))\n",
    "\n",
    "for item in top_items:\n",
    "    item_sales = top_items_sales[top_items_sales['Item'] == item]\n",
    "    plt.plot(\n",
    "        item_sales['Month'].astype(str),  \n",
    "        item_sales['Item_Quantity'],     \n",
    "        label=item                      \n",
    "    )\n",
    "\n",
    "plt.xlabel(\"Month\")\n",
    "plt.ylabel(\"Quantity Sold\")\n",
    "plt.title(\"Monthly Sales Trends for Top 5 Items\")\n",
    "plt.xticks(rotation=45)\n",
    "plt.legend(title='Items', bbox_to_anchor=(1.05, 1), loc='upper left')\n",
    "\n",
    "plt.tight_layout()\n",
    "plt.show()"
   ]
  },
  {
   "cell_type": "code",
   "execution_count": 22,
   "id": "baa68bbb-d77d-4890-bf4c-89a91c89ed15",
   "metadata": {},
   "outputs": [
    {
     "name": "stdout",
     "output_type": "stream",
     "text": [
      "Empty DataFrame\n",
      "Columns: [antecedents, consequents, antecedent support, consequent support, support, confidence, lift, representativity, leverage, conviction, zhangs_metric, jaccard, certainty, kulczynski]\n",
      "Index: []\n"
     ]
    }
   ],
   "source": [
    "\n",
    "basket = basket.map(lambda x: 1 if x > 0 else 0).astype(bool)\n",
    "\n",
    "\n",
    "frequent_itemsets_full = apriori(basket, min_support=0.01, use_colnames=True)\n",
    "\n",
    "\n",
    "frequent_itemsets_full['num_itemsets'] = frequent_itemsets_full['itemsets'].apply(len)\n",
    "\n",
    "rules_full = association_rules(\n",
    "    frequent_itemsets_full, \n",
    "    metric=\"lift\", \n",
    "    min_threshold=1.0,\n",
    "    num_itemsets=frequent_itemsets_full['num_itemsets']\n",
    ")\n",
    "print(rules_full.head())\n"
   ]
  },
  {
   "cell_type": "code",
   "execution_count": 23,
   "id": "b3649f97-ba29-4656-bb7c-b3f73cae8593",
   "metadata": {},
   "outputs": [],
   "source": [
    "top_items = data.groupby('Item')['Item_Quantity'].sum().nlargest(5).index\n",
    "top_items_sales = monthly_sales[monthly_sales['Item'].isin(top_items)]"
   ]
  },
  {
   "cell_type": "code",
   "execution_count": 24,
   "id": "48444a5e-6f43-44ed-9740-a9f941a8681f",
   "metadata": {},
   "outputs": [
    {
     "name": "stdout",
     "output_type": "stream",
     "text": [
      "\n",
      "--- Overall Analysis ---\n",
      "Frequent Itemsets:\n",
      "    support       itemsets  num_itemsets\n",
      "0  0.225806        (Bread)             1\n",
      "1  0.290323       (Butter)             1\n",
      "2  0.096774      (Charger)             1\n",
      "3  0.193548  (Cold Drinks)             1\n",
      "4  0.193548         (Milk)             1\n",
      "Association Rules:\n",
      "Empty DataFrame\n",
      "Columns: [antecedents, consequents, antecedent support, consequent support, support, confidence, lift, representativity, leverage, conviction, zhangs_metric, jaccard, certainty, kulczynski]\n",
      "Index: []\n"
     ]
    }
   ],
   "source": [
    "print(\"\\n--- Overall Analysis ---\")\n",
    "print(f\"Frequent Itemsets:\\n{frequent_itemsets_full.head()}\")\n",
    "print(f\"Association Rules:\\n{rules_full.head()}\")"
   ]
  },
  {
   "cell_type": "code",
   "execution_count": 25,
   "id": "6cdfd3bf-91d6-4d18-8029-be5cc75efd81",
   "metadata": {},
   "outputs": [
    {
     "name": "stdout",
     "output_type": "stream",
     "text": [
      "Empty DataFrame\n",
      "Columns: [antecedents, consequents, antecedent support, consequent support, support, confidence, lift, representativity, leverage, conviction, zhangs_metric, jaccard, certainty, kulczynski]\n",
      "Index: []\n"
     ]
    }
   ],
   "source": [
    "rules_full['lift'] = pd.to_numeric(rules_full['lift'], errors='coerce')\n",
    "\n",
    "top_rules_full = rules_full.nlargest(10, 'lift')\n",
    "\n",
    "print(top_rules_full)"
   ]
  }
 ],
 "metadata": {
  "kernelspec": {
   "display_name": "Python 3 (ipykernel)",
   "language": "python",
   "name": "python3"
  },
  "language_info": {
   "codemirror_mode": {
    "name": "ipython",
    "version": 3
   },
   "file_extension": ".py",
   "mimetype": "text/x-python",
   "name": "python",
   "nbconvert_exporter": "python",
   "pygments_lexer": "ipython3",
   "version": "3.12.6"
  }
 },
 "nbformat": 4,
 "nbformat_minor": 5
}
